{
 "cells": [
  {
   "cell_type": "code",
   "execution_count": 14,
   "id": "81f536f9-6f63-4a4d-bc6d-8c6e8589476d",
   "metadata": {},
   "outputs": [],
   "source": [
    "import numpy as np\n",
    "import pandas as pd\n",
    "from scipy.stats.mstats import winsorize"
   ]
  },
  {
   "cell_type": "code",
   "execution_count": 3,
   "id": "ca1de98c-5162-460e-a4fa-4deb949f037d",
   "metadata": {},
   "outputs": [],
   "source": [
    "df = pd.read_csv('Life Expectancy Data.csv')"
   ]
  },
  {
   "cell_type": "code",
   "execution_count": 7,
   "id": "4673913d-c25f-4396-981f-3661ed12077c",
   "metadata": {},
   "outputs": [
    {
     "data": {
      "text/plain": [
       "Index(['Country', 'Year', 'Status', 'Life expectancy ', 'Adult Mortality',\n",
       "       'infant deaths', 'Alcohol', 'percentage expenditure', 'Hepatitis B',\n",
       "       'Measles ', ' BMI ', 'under-five deaths ', 'Polio', 'Total expenditure',\n",
       "       'Diphtheria ', ' HIV/AIDS', 'GDP', 'Population',\n",
       "       ' thinness  1-19 years', ' thinness 5-9 years',\n",
       "       'Income composition of resources', 'Schooling'],\n",
       "      dtype='object')"
      ]
     },
     "execution_count": 7,
     "metadata": {},
     "output_type": "execute_result"
    }
   ],
   "source": [
    "df.columns"
   ]
  },
  {
   "cell_type": "code",
   "execution_count": 15,
   "id": "98792708-d3da-479c-ab22-891a63299904",
   "metadata": {},
   "outputs": [],
   "source": [
    "def winsor(x, multiplier=3): \n",
    "    upper= x.median() + x.std()*multiplier\n",
    "    for limit in np.arange(0.001, 0.20, 0.001):\n",
    "        if np.max(winsorize(x,(0,limit))) < upper:\n",
    "            return limit\n",
    "    return None "
   ]
  },
  {
   "cell_type": "code",
   "execution_count": 17,
   "id": "ff47c3be-d2e9-4c7f-9797-d8ad30139653",
   "metadata": {},
   "outputs": [
    {
     "data": {
      "text/plain": [
       "0.018000000000000002"
      ]
     },
     "execution_count": 17,
     "metadata": {},
     "output_type": "execute_result"
    }
   ],
   "source": [
    "winsor(df['infant deaths'])"
   ]
  },
  {
   "cell_type": "code",
   "execution_count": null,
   "id": "add994d0-d41f-4dd1-9cce-2ba91bb55ba1",
   "metadata": {},
   "outputs": [],
   "source": []
  }
 ],
 "metadata": {
  "kernelspec": {
   "display_name": "Python 3 (ipykernel)",
   "language": "python",
   "name": "python3"
  },
  "language_info": {
   "codemirror_mode": {
    "name": "ipython",
    "version": 3
   },
   "file_extension": ".py",
   "mimetype": "text/x-python",
   "name": "python",
   "nbconvert_exporter": "python",
   "pygments_lexer": "ipython3",
   "version": "3.10.4"
  }
 },
 "nbformat": 4,
 "nbformat_minor": 5
}
